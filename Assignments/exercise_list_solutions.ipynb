{
 "cells": [
  {
   "cell_type": "code",
   "execution_count": 66,
   "metadata": {},
   "outputs": [
    {
     "data": {
      "text/plain": [
       "'Ziarat'"
      ]
     },
     "execution_count": 66,
     "metadata": {},
     "output_type": "execute_result"
    }
   ],
   "source": [
    "# Exercise 3-1: Names\n",
    "names :list = [\"Atiqa\", \"Taiba\", \"Zubia\", \"Ayesha\", \"Ziarat\"]\n",
    "names[4]"
   ]
  },
  {
   "cell_type": "code",
   "execution_count": 67,
   "metadata": {},
   "outputs": [
    {
     "name": "stdout",
     "output_type": "stream",
     "text": [
      "Hey Atiqa! How are you.\n",
      "Hey Taiba! How are you.\n",
      "Hey Ziarat! How are you.\n",
      "Hey Zubia! How are you.\n",
      "Hey Ayesha! How are you.\n"
     ]
    }
   ],
   "source": [
    "# Exercise 3-2: Greetings\n",
    "names :list = [\"Atiqa\", \"Taiba\", \"Ziarat\", \"Zubia\", \"Ayesha\"]\n",
    "for name in names:\n",
    "    print(f\"Hey {name}! How are you.\")"
   ]
  },
  {
   "cell_type": "code",
   "execution_count": 68,
   "metadata": {},
   "outputs": [
    {
     "name": "stdout",
     "output_type": "stream",
     "text": [
      "I would like to own a Cruiser motorcycle.\n",
      "I would like to own a Yamaha MT-07 motorcycle.\n",
      "I would like to own a Suzuki GSX motorcycle.\n",
      "I would like to own a Kawasaki Ninja 650 motorcycle.\n",
      "I would like to own a BMW R1250GS motorcycle.\n"
     ]
    }
   ],
   "source": [
    "# Exercise 3-3: Your Own List\n",
    "motorcycles :list = [\"Cruiser\", \"Yamaha MT-07\", \"Suzuki GSX\", \"Kawasaki Ninja 650\", \"BMW R1250GS\"]\n",
    "for motorcycle in motorcycles:\n",
    "    print(f\"I would like to own a {motorcycle} motorcycle.\")"
   ]
  },
  {
   "cell_type": "code",
   "execution_count": 69,
   "metadata": {},
   "outputs": [
    {
     "name": "stdout",
     "output_type": "stream",
     "text": [
      "Hey Atiqa, let's catch up over dinner sometime soon!\n",
      "Hey Taiba, let's catch up over dinner sometime soon!\n",
      "Hey Zubia, let's catch up over dinner sometime soon!\n",
      "Hey Ziarat, let's catch up over dinner sometime soon!\n"
     ]
    }
   ],
   "source": [
    "# Exercise 3-4: Guest List\n",
    "guests : list =[\"Atiqa\", \"Taiba\", \"Zubia\",\"Ziarat\"]\n",
    "for guest in guests:\n",
    "    print(f\"Hey {guest}, let's catch up over dinner sometime soon!\")"
   ]
  },
  {
   "cell_type": "code",
   "execution_count": 70,
   "metadata": {},
   "outputs": [
    {
     "name": "stdout",
     "output_type": "stream",
     "text": [
      "Hey Atiqa, let's catch up over dinner sometime soon!\n",
      "Hey Taiba, let's catch up over dinner sometime soon!\n",
      "Hey Zubia, let's catch up over dinner sometime soon!\n",
      "Hey Ziarat, let's catch up over dinner sometime soon!\n",
      "\n",
      "Unfortunately, Taiba can't make it to dinner.\n",
      "\n",
      "Updated Invitations:\n",
      "Hey Atiqa, let's catch up over dinner sometime soon!\n",
      "Hey Ayesha, let's catch up over dinner sometime soon!\n",
      "Hey Zubia, let's catch up over dinner sometime soon!\n",
      "Hey Ziarat, let's catch up over dinner sometime soon!\n"
     ]
    }
   ],
   "source": [
    "# Exercise 3-5: Changing Guest List\n",
    "guests = [\"Atiqa\", \"Taiba\", \"Zubia\",\"Ziarat\"]\n",
    "for guest in guests:\n",
    "    print(f\"Hey {guest}, let's catch up over dinner sometime soon!\")\n",
    "print(f\"\\nUnfortunately, {guests[1]} can't make it to dinner.\")\n",
    "guests.pop(1)\n",
    "guests.insert(1, \"Ayesha\")\n",
    "print(\"\\nUpdated Invitations:\")\n",
    "for guest in guests:\n",
    "    print(f\"Hey {guest}, let's catch up over dinner sometime soon!\")"
   ]
  },
  {
   "cell_type": "code",
   "execution_count": 71,
   "metadata": {},
   "outputs": [
    {
     "name": "stdout",
     "output_type": "stream",
     "text": [
      "Updated Invitations:\n",
      "Hey Atiqa, let's catch up over dinner sometime soon!\n",
      "Hey Taiba, let's catch up over dinner sometime soon!\n",
      "Hey Zubia, let's catch up over dinner sometime soon!\n",
      "Hey Ziarat, let's catch up over dinner sometime soon!\n",
      "\n",
      "Great news! I found a bigger table, so I can invite more friends!\n",
      "\n",
      "New Invitations:\n",
      "Hey Ayesha, let's catch up over dinner sometime soon!\n",
      "Hey Atiqa, let's catch up over dinner sometime soon!\n",
      "Hey Esha, let's catch up over dinner sometime soon!\n",
      "Hey Taiba, let's catch up over dinner sometime soon!\n",
      "Hey Zubia, let's catch up over dinner sometime soon!\n",
      "Hey Ziarat, let's catch up over dinner sometime soon!\n",
      "Hey Sana, let's catch up over dinner sometime soon!\n"
     ]
    }
   ],
   "source": [
    "# Exercise 3-6: More Guests \n",
    "guests = [\"Atiqa\", \"Taiba\", \"Zubia\",\"Ziarat\"]\n",
    "print(\"Updated Invitations:\")\n",
    "for guest in guests:\n",
    "    print(f\"Hey {guest}, let's catch up over dinner sometime soon!\")\n",
    "print(\"\\nGreat news! I found a bigger table, so I can invite more friends!\")\n",
    "guests.insert(0, \"Ayesha\")          \n",
    "guests.insert(2, \"Esha\")      \n",
    "guests.append(\"Sana\")           \n",
    "print(\"\\nNew Invitations:\")\n",
    "for guest in guests:\n",
    "    print(f\"Hey {guest}, let's catch up over dinner sometime soon!\")"
   ]
  },
  {
   "cell_type": "code",
   "execution_count": 72,
   "metadata": {},
   "outputs": [
    {
     "name": "stdout",
     "output_type": "stream",
     "text": [
      "Sorry, I can only invite two people for dinner.\n",
      "\n",
      "Hey Sana, I'm sorry but I can't invite you to dinner this time.\n",
      "Hey Esha, I'm sorry but I can't invite you to dinner this time.\n",
      "Hey Ayesha, I'm sorry but I can't invite you to dinner this time.\n",
      "Hey Ziarat, I'm sorry but I can't invite you to dinner this time.\n",
      "Hey Zubia, I'm sorry but I can't invite you to dinner this time.\n",
      "\n",
      "Updated Invitations:\n",
      "Hey Atiqa, you're still invited to dinner!\n",
      "Hey Taiba, you're still invited to dinner!\n",
      "\n",
      "Final guest list: []\n"
     ]
    }
   ],
   "source": [
    "# Exercise 3-7: Shrinking Guest List\n",
    "guests = [\"Atiqa\", \"Taiba\", \"Zubia\",\"Ziarat\", \"Ayesha\", \"Esha\", \"Sana\"]\n",
    "print(\"Sorry, I can only invite two people for dinner.\\n\")\n",
    "while len(guests) > 2:\n",
    "    removed_guest = guests.pop()\n",
    "    print(f\"Hey {removed_guest}, I'm sorry but I can't invite you to dinner this time.\")\n",
    "print(\"\\nUpdated Invitations:\")\n",
    "for guest in guests:\n",
    "    print(f\"Hey {guest}, you're still invited to dinner!\")\n",
    "del guests[0]\n",
    "del guests[0]\n",
    "print(\"\\nFinal guest list:\", guests)"
   ]
  },
  {
   "cell_type": "code",
   "execution_count": 73,
   "metadata": {},
   "outputs": [
    {
     "name": "stdout",
     "output_type": "stream",
     "text": [
      "['Fairy Meadows', 'Kashmir', 'Turkey', 'England', 'Baffin']\n",
      "['Baffin', 'England', 'Fairy Meadows', 'Kashmir', 'Turkey']\n",
      "['Turkey', 'Kashmir', 'Fairy Meadows', 'England', 'Baffin']\n",
      "['Fairy Meadows', 'Kashmir', 'Turkey', 'England', 'Baffin']\n",
      "['Baffin', 'England', 'Turkey', 'Kashmir', 'Fairy Meadows']\n",
      "['Fairy Meadows', 'Kashmir', 'Turkey', 'England', 'Baffin']\n",
      "['Baffin', 'England', 'Fairy Meadows', 'Kashmir', 'Turkey']\n",
      "['Turkey', 'Kashmir', 'Fairy Meadows', 'England', 'Baffin']\n"
     ]
    }
   ],
   "source": [
    "# Exercise 3-8: Seeing the World\n",
    "places = [\"Fairy Meadows\", \"Kashmir\", \"Turkey\", \"England\", \"Baffin\"]\n",
    "# Original Order\n",
    "print(places)\n",
    "# List in alphabetical order\n",
    "print(sorted(places))\n",
    "# List in reverse-alphabetical order\n",
    "print(sorted(places, reverse=True))\n",
    "# Original list still in original order\n",
    "print(places)\n",
    "# reverse order\n",
    "places.reverse()\n",
    "# List after reversing the order\n",
    "print(places)\n",
    "# Again reverse\n",
    "places.reverse()\n",
    "# List after reversing the order again (back to original)\n",
    "print(places)\n",
    "# Again sort in alphabetical order\n",
    "places.sort()\n",
    "# List after in alphabetical order\n",
    "print(places)\n",
    "# List sorted in reverse-alphabetical order\n",
    "places.sort(reverse=True)\n",
    "# List after reverse-alphabetical order\n",
    "print(places)"
   ]
  },
  {
   "cell_type": "code",
   "execution_count": 74,
   "metadata": {},
   "outputs": [
    {
     "name": "stdout",
     "output_type": "stream",
     "text": [
      "['Mushkpuri Top', 'Siran', 'London', 'England', 'Urdu']\n",
      "['Mushkpuri Top', 'Siran', 'London', 'England', 'Urdu', 'Chai']\n",
      "['Mushkpuri Top', 'Siran', 'London', 'England', 'Urdu', 'Chai', 'Code', '8 ball pool']\n",
      "['Mushkpuri Top', 'Siran', 'Fairy Meadows', 'London', 'England', 'Urdu', 'Chai', 'Code', '8 ball pool']\n",
      "['Mushkpuri Top', 'Fairy Meadows', 'London', 'England', 'Urdu', 'Chai', 'Code', '8 ball pool']\n",
      "\n",
      "Popped item: 8 ball pool\n",
      "['Mushkpuri Top', 'Fairy Meadows', 'London', 'England', 'Urdu', 'Chai', 'Code']\n",
      "[]\n",
      "['Mushkpuri Top', 'Siran', 'London', 'England', 'Urdu']\n",
      "['Mushkpuri Top', 'Siran', 'London', 'England', 'Urdu']\n",
      "['England', 'London', 'Mushkpuri Top', 'Siran', 'Urdu']\n",
      "['Urdu', 'Siran', 'Mushkpuri Top', 'London', 'England']\n",
      "['Urdu', 'Siran', 'Mushkpuri Top', 'London', 'England']\n"
     ]
    }
   ],
   "source": [
    "# Exercise 3-9: Every Function\n",
    "My_Fav = [\"Mushkpuri Top\", \"Siran\", \"London\", \"England\", \"Urdu\"]\n",
    "# Original list\n",
    "print(My_Fav)\n",
    "# append() adds an element to the end of the list\n",
    "My_Fav.append(\"Chai\")\n",
    "print(My_Fav)\n",
    "# extend() extends the list by appending elements from another iterable\n",
    "My_Fav.extend([\"Code\", \"8 ball pool\"])\n",
    "print(My_Fav)\n",
    "# insert() inserts an element at a specified position\n",
    "My_Fav.insert(2, \"Fairy Meadows\")\n",
    "print(My_Fav)\n",
    "# remove() removes the first occurrence of a specified value\n",
    "My_Fav.remove(\"Siran\")\n",
    "print(My_Fav)\n",
    "# pop() removes and returns the element at the specified position (or last item if index is not provided)\n",
    "popped_item = My_Fav.pop()\n",
    "print(\"\\nPopped item:\", popped_item)\n",
    "print(My_Fav)\n",
    "# clear() removes all items from the list\n",
    "My_Fav.clear()\n",
    "print(My_Fav)\n",
    "# index() finds the index of the first occurrence of a specified value\n",
    "My_Fav = [\"Mushkpuri Top\", \"Siran\", \"London\", \"England\", \"Urdu\"]\n",
    "My_Fav.index(\"London\")\n",
    "print(My_Fav)\n",
    "# count() returns the number of times a specified value appears in the list\n",
    "My_Fav.count(\"Urdu\")\n",
    "print(My_Fav)\n",
    "# sort() sorts the list in ascending order\n",
    "My_Fav.sort()\n",
    "print(My_Fav)\n",
    "# reverse() reverses the elements of the list in place\n",
    "My_Fav.reverse()\n",
    "print(My_Fav)\n",
    "# copy() returns a shallow copy of the list\n",
    "My_Fav_copy = My_Fav.copy()\n",
    "print(My_Fav_copy)\n"
   ]
  },
  {
   "cell_type": "code",
   "execution_count": 75,
   "metadata": {},
   "outputs": [
    {
     "name": "stdout",
     "output_type": "stream",
     "text": [
      "['Fairy Meadows', 'Kashmir', 'Turkey', 'England', 'Baffin']\n"
     ]
    },
    {
     "ename": "ValueError",
     "evalue": "5 is not in list",
     "output_type": "error",
     "traceback": [
      "\u001b[1;31m---------------------------------------------------------------------------\u001b[0m",
      "\u001b[1;31mValueError\u001b[0m                                Traceback (most recent call last)",
      "Cell \u001b[1;32mIn[75], line 4\u001b[0m\n\u001b[0;32m      2\u001b[0m \u001b[38;5;28mprint\u001b[39m(cities)\n\u001b[0;32m      3\u001b[0m \u001b[38;5;66;03m# Trying to access index 10\u001b[39;00m\n\u001b[1;32m----> 4\u001b[0m \u001b[43mcities\u001b[49m\u001b[38;5;241;43m.\u001b[39;49m\u001b[43mindex\u001b[49m\u001b[43m(\u001b[49m\u001b[38;5;241;43m5\u001b[39;49m\u001b[43m)\u001b[49m\n",
      "\u001b[1;31mValueError\u001b[0m: 5 is not in list"
     ]
    }
   ],
   "source": [
    "# Exercise 3-10: Intentional Error (a)\n",
    "cities = [\"Fairy Meadows\", \"Kashmir\", \"Turkey\", \"England\", \"Baffin\"]\n",
    "print(cities)\n",
    "# Trying to access index 10\n",
    "cities.index(5)"
   ]
  },
  {
   "cell_type": "code",
   "execution_count": null,
   "metadata": {},
   "outputs": [
    {
     "name": "stdout",
     "output_type": "stream",
     "text": [
      "['Fairy Meadows', 'Kashmir', 'Turkey', 'England', 'Baffin']\n"
     ]
    },
    {
     "data": {
      "text/plain": [
       "3"
      ]
     },
     "execution_count": 64,
     "metadata": {},
     "output_type": "execute_result"
    }
   ],
   "source": [
    "# Exercise 3-10: Intentional Error (b)\n",
    "cities = [\"Fairy Meadows\", \"Kashmir\", \"Turkey\", \"England\", \"Baffin\"]\n",
    "print(cities)\n",
    "\n",
    "cities.index(\"England\")"
   ]
  }
 ],
 "metadata": {
  "kernelspec": {
   "display_name": "Python 3",
   "language": "python",
   "name": "python3"
  },
  "language_info": {
   "codemirror_mode": {
    "name": "ipython",
    "version": 3
   },
   "file_extension": ".py",
   "mimetype": "text/x-python",
   "name": "python",
   "nbconvert_exporter": "python",
   "pygments_lexer": "ipython3",
   "version": "3.12.4"
  }
 },
 "nbformat": 4,
 "nbformat_minor": 2
}
