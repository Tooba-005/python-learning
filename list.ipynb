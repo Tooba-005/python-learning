{
 "cells": [
  {
   "cell_type": "code",
   "execution_count": 1,
   "metadata": {},
   "outputs": [
    {
     "name": "stdout",
     "output_type": "stream",
     "text": [
      "TARZAN Tapii\n"
     ]
    }
   ],
   "source": [
    "print('TARZAN Tapii')"
   ]
  },
  {
   "cell_type": "code",
   "execution_count": 12,
   "metadata": {},
   "outputs": [
    {
     "data": {
      "text/plain": [
       "['apple', 'orange', 'banana', 'mango', 'grapes']"
      ]
     },
     "execution_count": 12,
     "metadata": {},
     "output_type": "execute_result"
    }
   ],
   "source": [
    "fruits : list = [\n",
    "    \"apple\", \"orange\", \"banana\", \"mango\", \"grapes\"\n",
    "]\n",
    "fruits\n",
    "# fruits[2]\n",
    "# fruits[-1]"
   ]
  },
  {
   "cell_type": "code",
   "execution_count": 7,
   "metadata": {},
   "outputs": [
    {
     "data": {
      "text/plain": [
       "['banana', 'mango']"
      ]
     },
     "execution_count": 7,
     "metadata": {},
     "output_type": "execute_result"
    }
   ],
   "source": [
    "fruits[1:2]\n",
    "fruits[2:4]"
   ]
  },
  {
   "cell_type": "code",
   "execution_count": 9,
   "metadata": {},
   "outputs": [
    {
     "data": {
      "text/plain": [
       "['apple', 'orange', 'banana', 'mango', 'grapes', 'peach', 'peach']"
      ]
     },
     "execution_count": 9,
     "metadata": {},
     "output_type": "execute_result"
    }
   ],
   "source": [
    "# list methods:\n",
    "# to add a new item to the end of the list\n",
    "fruits.append('peach')\n",
    "fruits"
   ]
  },
  {
   "cell_type": "code",
   "execution_count": 10,
   "metadata": {},
   "outputs": [
    {
     "data": {
      "text/plain": [
       "[]"
      ]
     },
     "execution_count": 10,
     "metadata": {},
     "output_type": "execute_result"
    }
   ],
   "source": [
    "# to clear all the list items\n",
    "fruits.clear()\n",
    "fruits"
   ]
  },
  {
   "cell_type": "code",
   "execution_count": 13,
   "metadata": {},
   "outputs": [
    {
     "name": "stdout",
     "output_type": "stream",
     "text": [
      "['apple', 'orange', 'banana', 'mango', 'grapes']\n"
     ]
    }
   ],
   "source": [
    "# to copy the list items\n",
    "# copy the same list items into the new list\n",
    "fruits1 = fruits\n",
    "print(fruits1)"
   ]
  },
  {
   "cell_type": "code",
   "execution_count": 1,
   "metadata": {},
   "outputs": [],
   "source": [
    "# append, clear, copy, extend, count, index, insert, pop, remove, reverse, sort"
   ]
  },
  {
   "cell_type": "code",
   "execution_count": 3,
   "metadata": {},
   "outputs": [
    {
     "name": "stdout",
     "output_type": "stream",
     "text": [
      "['apple', 'orange', 'cherry', 'grapes']\n"
     ]
    }
   ],
   "source": [
    "# working with lists:\n",
    "\n",
    "fruits = ['apple', 'orange', 'cherry', 'grapes']\n",
    "print(fruits)"
   ]
  },
  {
   "cell_type": "code",
   "execution_count": 11,
   "metadata": {},
   "outputs": [
    {
     "name": "stdout",
     "output_type": "stream",
     "text": [
      "APPLE\n",
      "ORANGE\n",
      "CHERRY\n",
      "GRAPES\n"
     ]
    }
   ],
   "source": [
    "for x in fruits:\n",
    "    # print(f\"this is {x}\")\n",
    "    print(x.upper())\n",
    "# indentation error : when there is some missing spaces in a particular line \n",
    "    "
   ]
  },
  {
   "cell_type": "code",
   "execution_count": 15,
   "metadata": {},
   "outputs": [
    {
     "name": "stdout",
     "output_type": "stream",
     "text": [
      "2 - Ayesha\n",
      "4 - Ayesha\n",
      "6 - Ayesha\n",
      "8 - Ayesha\n"
     ]
    }
   ],
   "source": [
    "# range (start { it has default value 0 }, end, step { it has defau lt value 1 })\n",
    "# it generates a specific range of values\n",
    "for i in range (2, 10, 2):\n",
    "    print(f\"{i} - Ayesha\")\n",
    "# int()\n",
    "# float()\n",
    "# bool()\n",
    "# list()\n",
    "# tuple()\n",
    "# dict()\n"
   ]
  },
  {
   "cell_type": "code",
   "execution_count": 17,
   "metadata": {},
   "outputs": [
    {
     "name": "stdout",
     "output_type": "stream",
     "text": [
      "i love you hassan\n"
     ]
    }
   ],
   "source": [
    "print(\"i love you hassan\")"
   ]
  },
  {
   "cell_type": "code",
   "execution_count": 19,
   "metadata": {},
   "outputs": [
    {
     "name": "stdout",
     "output_type": "stream",
     "text": [
      "[0, 2, 4, 6, 8, 10]\n"
     ]
    }
   ],
   "source": [
    "li = list(range(0, 11, 2))\n",
    "print(li)"
   ]
  },
  {
   "cell_type": "code",
   "execution_count": 26,
   "metadata": {},
   "outputs": [
    {
     "name": "stdout",
     "output_type": "stream",
     "text": [
      "[1]\n",
      "[1, 4]\n",
      "[1, 4, 9]\n",
      "[1, 4, 9, 16]\n",
      "[1, 4, 9, 16, 25]\n",
      "[1, 4, 9, 16, 25, 36]\n",
      "[1, 4, 9, 16, 25, 36, 49]\n",
      "[1, 4, 9, 16, 25, 36, 49, 64]\n",
      "[1, 4, 9, 16, 25, 36, 49, 64, 81]\n",
      "[1, 4, 9, 16, 25, 36, 49, 64, 81, 100]\n"
     ]
    }
   ],
   "source": [
    "# for print numbers in loop and square each tym\n",
    "number = [1, 2, 3, 4, 5, 6, 7, 8, 9, 10]\n",
    "square = []\n",
    "for x in number:\n",
    "    x = x**2\n",
    "    square.append(x)\n",
    "    print(square)"
   ]
  },
  {
   "cell_type": "code",
   "execution_count": 27,
   "metadata": {},
   "outputs": [
    {
     "data": {
      "text/plain": [
       "[1, 4, 9, 16, 25, 36, 49, 64, 81, 100]"
      ]
     },
     "execution_count": 27,
     "metadata": {},
     "output_type": "execute_result"
    }
   ],
   "source": [
    "[x**2 for x in number]"
   ]
  },
  {
   "cell_type": "code",
   "execution_count": 35,
   "metadata": {},
   "outputs": [
    {
     "name": "stdout",
     "output_type": "stream",
     "text": [
      "['G', 'A', 'B', 'C', 'D', 'E', 'F']\n"
     ]
    }
   ],
   "source": [
    "# create a list and add 5 elements of string type\n",
    "\n",
    "my_list = ['A', 'B', 'C', 'D', 'E']\n",
    "my_list.append('F')\n",
    "my_list.insert(0, 'G')\n",
    "print(my_list)"
   ]
  },
  {
   "cell_type": "code",
   "execution_count": 36,
   "metadata": {},
   "outputs": [
    {
     "name": "stdout",
     "output_type": "stream",
     "text": [
      "Hey Atiqa, let's catch up over dinner sometime soon!\n",
      "Hey Taiba, let's catch up over dinner sometime soon!\n",
      "Hey Zubia, let's catch up over dinner sometime soon!\n",
      "Hey Ziarat, let's catch up over dinner sometime soon!\n"
     ]
    }
   ],
   "source": [
    "friends : list =[\"Atiqa\", \"Taiba\", \"Zubia\",\"Ziarat\"]\n",
    "for frnd in friends:\n",
    "    print(f\"Hey {frnd}, let's catch up over dinner sometime soon!\")"
   ]
  },
  {
   "cell_type": "code",
   "execution_count": 63,
   "metadata": {},
   "outputs": [
    {
     "name": "stdout",
     "output_type": "stream",
     "text": [
      "Hey Taiba, let catch up over dinner sometime soon!\n"
     ]
    }
   ],
   "source": [
    "friends =[\"Atiqa\", \"Taiba\", \"Zubia\",\"Ziarat\"]\n",
    "# print(\"Hey{1} , let's catch up over dinner sometime soon!\")\n",
    "print(f'Hey {friends[1]}, let catch up over dinner sometime soon!')"
   ]
  }
 ],
 "metadata": {
  "kernelspec": {
   "display_name": "Python 3",
   "language": "python",
   "name": "python3"
  },
  "language_info": {
   "codemirror_mode": {
    "name": "ipython",
    "version": 3
   },
   "file_extension": ".py",
   "mimetype": "text/x-python",
   "name": "python",
   "nbconvert_exporter": "python",
   "pygments_lexer": "ipython3",
   "version": "3.12.4"
  }
 },
 "nbformat": 4,
 "nbformat_minor": 2
}
