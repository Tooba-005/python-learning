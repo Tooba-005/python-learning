{
 "cells": [
  {
   "cell_type": "code",
   "execution_count": 2,
   "metadata": {},
   "outputs": [
    {
     "name": "stdout",
     "output_type": "stream",
     "text": [
      "6\n"
     ]
    }
   ],
   "source": [
    "# input()\n",
    "num1 = 6\n",
    "print(num1)"
   ]
  },
  {
   "cell_type": "code",
   "execution_count": 7,
   "metadata": {},
   "outputs": [
    {
     "name": "stdout",
     "output_type": "stream",
     "text": [
      "11\n",
      "22\n",
      "33\n",
      "44\n"
     ]
    }
   ],
   "source": [
    "num2 = input(\"Enter 1st Number\")\n",
    "num3 =  input(\"Enter 2nd Number\")\n",
    "num4 = input(\"Enter 3rd Number\")\n",
    "num5 = input(\"Enter 4th Number\")\n",
    "print(num2)\n",
    "print(num3)\n",
    "print(num4)\n",
    "print(num5)"
   ]
  },
  {
   "cell_type": "code",
   "execution_count": 10,
   "metadata": {},
   "outputs": [
    {
     "name": "stdout",
     "output_type": "stream",
     "text": [
      "Zia Rajpoot\n"
     ]
    }
   ],
   "source": [
    "name = input(\"Enter Name\")\n",
    "print(name)"
   ]
  },
  {
   "cell_type": "code",
   "execution_count": 35,
   "metadata": {},
   "outputs": [
    {
     "name": "stdout",
     "output_type": "stream",
     "text": [
      "('apple', 'grapes', 'banana')\n"
     ]
    },
    {
     "data": {
      "text/plain": [
       "True"
      ]
     },
     "execution_count": 35,
     "metadata": {},
     "output_type": "execute_result"
    }
   ],
   "source": [
    "# Tuples: it is a data type that stores data, it can make with parenthesis() while lists can make with curly braces{}\n",
    "# we cannot add any new thing or update in tuple whereas it can be done in list\n",
    "# mutable (changes can be allowed)\n",
    "# immutable (changes cannot be allowed) and tuples cannot support changes\n",
    "fruits = (\"apple\", \"grapes\", \"banana\")\n",
    "print(fruits)"
   ]
  },
  {
   "cell_type": "code",
   "execution_count": 12,
   "metadata": {},
   "outputs": [
    {
     "data": {
      "text/plain": [
       "'banana'"
      ]
     },
     "execution_count": 12,
     "metadata": {},
     "output_type": "execute_result"
    }
   ],
   "source": [
    "fruits[2]"
   ]
  },
  {
   "cell_type": "code",
   "execution_count": 13,
   "metadata": {},
   "outputs": [
    {
     "data": {
      "text/plain": [
       "('grapes', 'banana')"
      ]
     },
     "execution_count": 13,
     "metadata": {},
     "output_type": "execute_result"
    }
   ],
   "source": [
    "fruits[1:3]"
   ]
  },
  {
   "cell_type": "code",
   "execution_count": 14,
   "metadata": {},
   "outputs": [
    {
     "name": "stdout",
     "output_type": "stream",
     "text": [
      "apple\n",
      "grapes\n",
      "banana\n"
     ]
    }
   ],
   "source": [
    "for x in fruits:\n",
    "    print(x)"
   ]
  },
  {
   "cell_type": "code",
   "execution_count": 15,
   "metadata": {},
   "outputs": [],
   "source": [
    "li = [2]"
   ]
  },
  {
   "cell_type": "code",
   "execution_count": 18,
   "metadata": {},
   "outputs": [
    {
     "data": {
      "text/plain": [
       "int"
      ]
     },
     "execution_count": 18,
     "metadata": {},
     "output_type": "execute_result"
    }
   ],
   "source": [
    "tu = (2)\n",
    "type(tu)"
   ]
  },
  {
   "cell_type": "code",
   "execution_count": 19,
   "metadata": {},
   "outputs": [
    {
     "data": {
      "text/plain": [
       "tuple"
      ]
     },
     "execution_count": 19,
     "metadata": {},
     "output_type": "execute_result"
    }
   ],
   "source": [
    "# standard tuple format\n",
    "tu = (2,)\n",
    "type(tu)"
   ]
  },
  {
   "cell_type": "code",
   "execution_count": 22,
   "metadata": {},
   "outputs": [
    {
     "name": "stdout",
     "output_type": "stream",
     "text": [
      "<class 'int'>\n"
     ]
    }
   ],
   "source": [
    "# if statements, conditions \n",
    "# typecasting means changing data types from one to other like as int to float\n",
    "# input always return string data type\n",
    "marks = int(input(\"Enter Marks\"))\n",
    "# marks = int(marks)\n",
    "print(type(marks))"
   ]
  },
  {
   "cell_type": "code",
   "execution_count": 28,
   "metadata": {},
   "outputs": [
    {
     "name": "stdout",
     "output_type": "stream",
     "text": [
      "Fail\n",
      "Congrats!\n"
     ]
    }
   ],
   "source": [
    "marks = int(input(\"Enter Marks\"))\n",
    "if marks >= 33:\n",
    "    print(\"Pass\")\n",
    "else:\n",
    "    print(\"Fail\")\n",
    "    \n",
    "print(\"Congrats!\")    "
   ]
  },
  {
   "cell_type": "code",
   "execution_count": 26,
   "metadata": {},
   "outputs": [],
   "source": [
    "# operators: \n",
    "# arithmetic: +, -, /, *\n",
    "# relational : >, <, >=, <=, ==, !=    relation(True, False)\n",
    "# logical: &&(and)=True when all values are true, ||(or)=True when one of the value is true, !=(not) = reverse values"
   ]
  },
  {
   "cell_type": "code",
   "execution_count": 32,
   "metadata": {},
   "outputs": [
    {
     "name": "stdout",
     "output_type": "stream",
     "text": [
      "Pleasant Day\n",
      "Enjoy weather\n"
     ]
    }
   ],
   "source": [
    "temp = float(input(\"Enter Temperature:\"))\n",
    "if temp > 35:\n",
    "    print(\"Hot Day\")\n",
    "elif temp >= 20 and temp <=35:\n",
    "    print(\"Pleasant Day\")\n",
    "else:\n",
    "    print(\"Cold Day\")\n",
    "print(\"Enjoy weather\")"
   ]
  },
  {
   "cell_type": "code",
   "execution_count": 36,
   "metadata": {},
   "outputs": [
    {
     "data": {
      "text/plain": [
       "True"
      ]
     },
     "execution_count": 36,
     "metadata": {},
     "output_type": "execute_result"
    }
   ],
   "source": [
    "# in operator: (membership operator) check whether an element exist in list/tuple or not\n",
    "# return type True or False\n",
    "\"apple\" in fruits"
   ]
  },
  {
   "cell_type": "code",
   "execution_count": 45,
   "metadata": {},
   "outputs": [
    {
     "name": "stdout",
     "output_type": "stream",
     "text": [
      "1234\n"
     ]
    }
   ],
   "source": [
    "number1 = input(\"Enter 1st Number:\")\n",
    "number2 = input(\"Enter 2nd Number:\")\n",
    "result = number1 + number2\n",
    "result = int(result)\n",
    "print(result)"
   ]
  },
  {
   "cell_type": "code",
   "execution_count": 47,
   "metadata": {},
   "outputs": [
    {
     "name": "stdout",
     "output_type": "stream",
     "text": [
      "My favourite animal is also cow\n",
      "cow\n"
     ]
    }
   ],
   "source": [
    "animal = input(\"What's your favorite animal?\")\n",
    "print(f\"My favourite animal is also {animal}\")"
   ]
  },
  {
   "cell_type": "code",
   "execution_count": 51,
   "metadata": {},
   "outputs": [
    {
     "name": "stdout",
     "output_type": "stream",
     "text": [
      "58.22222222222222\n"
     ]
    }
   ],
   "source": [
    "temperature = float(input(\"Enter temperature in Fahrenheit:\"))\n",
    "celsius:float = temperature-32*5.0/9.0\n",
    "print(celsius)"
   ]
  },
  {
   "cell_type": "code",
   "execution_count": null,
   "metadata": {},
   "outputs": [],
   "source": [
    "side1 = input"
   ]
  }
 ],
 "metadata": {
  "kernelspec": {
   "display_name": "Python 3",
   "language": "python",
   "name": "python3"
  },
  "language_info": {
   "codemirror_mode": {
    "name": "ipython",
    "version": 3
   },
   "file_extension": ".py",
   "mimetype": "text/x-python",
   "name": "python",
   "nbconvert_exporter": "python",
   "pygments_lexer": "ipython3",
   "version": "3.12.4"
  }
 },
 "nbformat": 4,
 "nbformat_minor": 2
}
